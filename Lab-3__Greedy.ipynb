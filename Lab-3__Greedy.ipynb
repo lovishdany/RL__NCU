{
  "nbformat": 4,
  "nbformat_minor": 0,
  "metadata": {
    "colab": {
      "provenance": [],
      "authorship_tag": "ABX9TyNI6zb+cGwJEuT9+NqdXX7C",
      "include_colab_link": true
    },
    "kernelspec": {
      "name": "python3",
      "display_name": "Python 3"
    },
    "language_info": {
      "name": "python"
    }
  },
  "cells": [
    {
      "cell_type": "markdown",
      "metadata": {
        "id": "view-in-github",
        "colab_type": "text"
      },
      "source": [
        "<a href=\"https://colab.research.google.com/github/lovishdany/RL__NCU/blob/main/Lab-3__Greedy.ipynb\" target=\"_parent\"><img src=\"https://colab.research.google.com/assets/colab-badge.svg\" alt=\"Open In Colab\"/></a>"
      ]
    },
    {
      "cell_type": "code",
      "execution_count": 13,
      "metadata": {
        "id": "oYGoPvbphxux"
      },
      "outputs": [],
      "source": [
        "import numpy as np\n",
        "import matplotlib.pyplot as plt"
      ]
    },
    {
      "cell_type": "code",
      "source": [
        "class BanditProblem:\n",
        "    def __init__(self, trueActionValues, epsilon, totalSteps):\n",
        "        self.armNumber = np.size(trueActionValues)\n",
        "        self.epsilon = epsilon\n",
        "        self.currentStep = 0\n",
        "        self.numberOfTimesArmSelected = np.zeros(self.armNumber)\n",
        "        self.totalSteps = totalSteps\n",
        "        self.trueActionValues = trueActionValues\n",
        "        self.armMeanRewards = np.zeros(self.armNumber)\n",
        "        self.currentReward = 0\n",
        "        self.meanReward = np.zeros(totalSteps+1)\n",
        "\n",
        "    def epsilonGreedySelectActions(self):\n",
        "        probabiltyDraw = np.random.rand()\n",
        "        if (self.currentStep==0) or (probabiltyDraw<=self.epsilon):\n",
        "            selectedArmIndex = np.random.choice(self.armNumber)\n",
        "        if (probabiltyDraw>self.epsilon):\n",
        "            selectedArmIndex = np.argmax(self.armMeanRewards)\n",
        "        self.currentStep+=1\n",
        "        self.numberOfTimesArmSelected[selectedArmIndex] = self.numberOfTimesArmSelected[selectedArmIndex] + 1\n",
        "        self.currentReward = np.random.normal(self.trueActionValues[selectedArmIndex],2)\n",
        "        self.meanReward[self.currentStep] = self.meanReward[self.currentStep-1]+(1/(self.currentStep))*(self.currentReward-self.meanReward[self.currentStep-1])\n",
        "        self.armMeanRewards[selectedArmIndex]=self.armMeanRewards[selectedArmIndex]+(1/(self.numberOfTimesArmSelected[selectedArmIndex]))*(self.currentReward-self.armMeanRewards[selectedArmIndex])\n",
        "\n",
        "\n",
        "    def greedySelectActions(self):\n",
        "        probabiltyDraw = np.random.rand()\n",
        "        if (self.currentStep==0) or (probabiltyDraw<=0):\n",
        "            selectedArmIndex = np.random.choice(self.armNumber)\n",
        "        if (probabiltyDraw>0):\n",
        "            selectedArmIndex = np.argmax(self.armMeanRewards)\n",
        "        self.currentStep+=1\n",
        "        self.numberOfTimesArmSelected[selectedArmIndex] = self.numberOfTimesArmSelected[selectedArmIndex] + 1\n",
        "        self.currentReward = np.random.normal(self.trueActionValues[selectedArmIndex],2)\n",
        "        self.meanReward[self.currentStep] = self.meanReward[self.currentStep-1]+(1/(self.currentStep))*(self.currentReward-self.meanReward[self.currentStep-1])\n",
        "        self.armMeanRewards[selectedArmIndex]=self.armMeanRewards[selectedArmIndex]+(1/(self.numberOfTimesArmSelected[selectedArmIndex]))*(self.currentReward-self.armMeanRewards[selectedArmIndex])\n",
        "\n",
        "    def greedyplayGame(self):\n",
        "        for i in range(self.totalSteps):\n",
        "            self.greedySelectActions()\n",
        "        print(self.numberOfTimesArmSelected)\n",
        "        print(\"Reward = \",sum(self.meanReward))\n",
        "\n",
        "    def epsilonplayGame(self):\n",
        "        for i in range(self.totalSteps):\n",
        "            self.epsilonGreedySelectActions()\n",
        "        print(self.numberOfTimesArmSelected)\n",
        "        print(\"Reward = \",sum(self.meanReward))"
      ],
      "metadata": {
        "id": "6k--EEvCiLE-"
      },
      "execution_count": 14,
      "outputs": []
    },
    {
      "cell_type": "code",
      "source": [
        "epsilon=0.1\n",
        "totalSteps=1000\n",
        "actionValues=np.array([1,4,2,0,7,1,-1])\n",
        "Bandit1=BanditProblem(actionValues, epsilon, totalSteps)\n",
        "Bandit1.epsilonplayGame()\n",
        "Bandit2=BanditProblem(actionValues, 0, totalSteps)\n",
        "Bandit2.greedyplayGame()\n",
        "GreedyMeanReward = Bandit2.meanReward\n",
        "MeanReward=Bandit1.meanReward\n",
        "plt.plot(np.arange(totalSteps+1),MeanReward,linewidth=2, color='k', label='epsilon =0.1')\n",
        "plt.plot(np.arange(totalSteps+1),GreedyMeanReward,linewidth=2, color='r', label='greedy')\n",
        "plt.show()"
      ],
      "metadata": {
        "colab": {
          "base_uri": "https://localhost:8080/",
          "height": 503
        },
        "id": "RXf343uOiQmG",
        "outputId": "2d3ba55d-d9b5-47a5-e1e4-e9b04938cbe1"
      },
      "execution_count": 15,
      "outputs": [
        {
          "output_type": "stream",
          "name": "stdout",
          "text": [
            "[ 18.  31.  10.  13. 890.  18.  20.]\n",
            "Reward =  6171.25904849518\n",
            "[  1. 999.   0.   0.   0.   0.   0.]\n",
            "Reward =  3990.1481184205154\n"
          ]
        },
        {
          "output_type": "display_data",
          "data": {
            "text/plain": [
              "<Figure size 640x480 with 1 Axes>"
            ],
            "image/png": "[encoded data removed]"
          },
          "metadata": {}
        }
      ]
    }
  ]
}