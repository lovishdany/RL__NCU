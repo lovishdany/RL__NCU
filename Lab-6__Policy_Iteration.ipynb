{
  "nbformat": 4,
  "nbformat_minor": 0,
  "metadata": {
    "colab": {
      "provenance": [],
      "include_colab_link": true
    },
    "kernelspec": {
      "name": "python3",
      "display_name": "Python 3"
    },
    "language_info": {
      "name": "python"
    }
  },
  "cells": [
    {
      "cell_type": "markdown",
      "metadata": {
        "id": "view-in-github",
        "colab_type": "text"
      },
      "source": [
        "<a href=\"https://colab.research.google.com/github/lovishdany/RL__NCU/blob/main/Lab-6__Policy_Iteration.ipynb\" target=\"_parent\"><img src=\"https://colab.research.google.com/assets/colab-badge.svg\" alt=\"Open In Colab\"/></a>"
      ]
    },
    {
      "cell_type": "code",
      "execution_count": null,
      "metadata": {
        "colab": {
          "base_uri": "https://localhost:8080/"
        },
        "id": "wrkhwfxkw40g",
        "outputId": "b9c4a424-f16d-4382-88fd-353c84afdd4b"
      },
      "outputs": [
        {
          "output_type": "stream",
          "name": "stdout",
          "text": [
            "[['R' 'R' 'R' '1']\n",
            " ['U' '0' 'U' '-1']\n",
            " ['U' 'R' 'U' 'L']]\n",
            "[[ 0.  0.  0.  1.]\n",
            " [ 0. inf  0. -1.]\n",
            " [ 0.  0.  0.  0.]]\n",
            "\n",
            "Iteration 0\n",
            "[[0.    0.    1.    0.   ]\n",
            " [0.    0.    0.9   0.   ]\n",
            " [0.    0.    0.81  0.729]]\n",
            "\n",
            "Delta 1.0\n",
            "\n",
            "Iteration 1\n",
            "[[0.    0.9   1.    0.   ]\n",
            " [0.    0.    0.9   0.   ]\n",
            " [0.    0.729 0.81  0.729]]\n",
            "\n",
            "Delta 0.9\n",
            "\n",
            "Iteration 2\n",
            "[[0.81   0.9    1.     0.    ]\n",
            " [0.729  0.     0.9    0.    ]\n",
            " [0.6561 0.729  0.81   0.729 ]]\n",
            "\n",
            "Delta 0.81\n",
            "\n",
            "Iteration 3\n",
            "[[0.81   0.9    1.     0.    ]\n",
            " [0.729  0.     0.9    0.    ]\n",
            " [0.6561 0.729  0.81   0.729 ]]\n",
            "\n",
            "Delta 0.0\n"
          ]
        }
      ],
      "source": [
        "import numpy as np\n",
        "import math\n",
        "\n",
        "\n",
        "grid=np.zeros((3,4))\n",
        "grid[1,1] = math.inf\n",
        "grid[0,3], grid[1,3] = 1, -1\n",
        "\n",
        "operation_grid = np.array([[\"R\",\"R\",\"R\",1],\n",
        "                         [\"U\",0,\"U\",-1],\n",
        "                         [\"U\",\"R\",\"U\",\"L\"]])\n",
        "\n",
        "g=0.9\n",
        "reward_next=0\n",
        "print(operation_grid)\n",
        "print(grid)\n",
        "old_grid=grid.copy()\n",
        "new_grid=np.zeros((3,4))\n",
        "grid_data=np.zeros((4,3,4))\n",
        "grid_data\n",
        "y=0\n",
        "delta=1\n",
        "while delta>0.3:\n",
        "    # new_grid=grid_data[y].copy()\n",
        "    diff_grid=new_grid.copy()\n",
        "    for i in range(0,3):\n",
        "        for j in range(0,4):\n",
        "            if(operation_grid[i][j]==\"R\"):\n",
        "                new_grid[i][j] = old_grid[i][j+1] + g*new_grid[i][j+1]\n",
        "            elif(operation_grid[i][j]==\"U\"):\n",
        "                new_grid[i][j] = old_grid[i-1][j] + g*new_grid[i-1][j]\n",
        "            elif(operation_grid[i][j]==\"L\"):\n",
        "                new_grid[i][j] = old_grid[i][j-1] + g*new_grid[i][j-1]\n",
        "            else:\n",
        "                continue\n",
        "        # old_grid=new_grid.copy()\n",
        "        # diff=np.array([])\n",
        "    sub_grid=np.subtract(new_grid,diff_grid)\n",
        "    delta=np.max(sub_grid)\n",
        "\n",
        "    print()\n",
        "    print(f\"Iteration {y}\")\n",
        "    print(new_grid)\n",
        "    print()\n",
        "    print(\"Delta\", delta)\n",
        "    # new_grid_2= np.newaxis(new_grid)\n",
        "    # grid_data=np.append(grid_data, new_grid, axis=0)\n",
        "    y=y+1"
      ]
    },
    {
      "cell_type": "code",
      "source": [],
      "metadata": {
        "id": "WeICUkxnw57U"
      },
      "execution_count": null,
      "outputs": []
    },
    {
      "cell_type": "code",
      "source": [
        "operations = [[[\"R\",\"D\"],[\"L\",\"R\"],[\"L\",\"R\",\"D\"],1],[[\"U\",\"D\"],0,[\"U\",\"D\",\"R\"],-1],[[\"U\",\"R\"],[\"R\",\"L\"],[\"U\",\"L\",\"R\"],[\"U\",\"L\"]]]\n",
        "improve_grid=new_grid.copy()\n",
        "\n",
        "for i in operations:\n",
        "  print(i)\n",
        "print()\n",
        "print(improve_grid)\n",
        "\n",
        "\n",
        "\n"
      ],
      "metadata": {
        "colab": {
          "base_uri": "https://localhost:8080/"
        },
        "id": "w8WRuxj9j85d",
        "outputId": "37151d31-eedc-43fd-de84-e805020917cd"
      },
      "execution_count": null,
      "outputs": [
        {
          "output_type": "stream",
          "name": "stdout",
          "text": [
            "[['R', 'D'], ['L', 'R'], ['L', 'R', 'D'], 1]\n",
            "[['U', 'D'], 0, ['U', 'D', 'R'], -1]\n",
            "[['U', 'R'], ['R', 'L'], ['U', 'L', 'R'], ['U', 'L']]\n",
            "\n",
            "[[0.81   0.9    1.     0.    ]\n",
            " [0.729  0.     0.9    0.    ]\n",
            " [0.6561 0.729  0.81   0.729 ]]\n"
          ]
        }
      ]
    },
    {
      "cell_type": "code",
      "source": [
        "for i in range(0,3):\n",
        "  for j in range(0,4):\n",
        "    store=[]\n",
        "    for k in range(len(operations[i][j])):\n",
        "      if(operation_grid[i][j][k]==\"R\"):\n",
        "        p = old_grid[i][j+1] + g*new_grid[i][j+1]\n",
        "        store.append(p)\n",
        "      elif(operation_grid[i][j][k]==\"U\"):\n",
        "        p = old_grid[i-1][j] + g*new_grid[i-1][j]\n",
        "        store.append(p)\n",
        "      elif(operation_grid[i][j][k]==\"L\"):\n",
        "        p = old_grid[i][j-1] + g*new_grid[i][j-1]\n",
        "        store.append(p)\n",
        "      else:\n",
        "        continue\n",
        "    max = max(store)\n",
        "    improve_grid[i][j]=max\n",
        "\n",
        "print(imporve_grid)"
      ],
      "metadata": {
        "colab": {
          "base_uri": "https://localhost:8080/",
          "height": 254
        },
        "id": "L3TqIGLe0k0n",
        "outputId": "c2364df8-e533-4773-c25e-9d0b3349e306"
      },
      "execution_count": null,
      "outputs": [
        {
          "output_type": "error",
          "ename": "IndexError",
          "evalue": "ignored",
          "traceback": [
            "\u001b[0;31m---------------------------------------------------------------------------\u001b[0m",
            "\u001b[0;31mIndexError\u001b[0m                                Traceback (most recent call last)",
            "\u001b[0;32m<ipython-input-8-c5f96a4d57dd>\u001b[0m in \u001b[0;36m<cell line: 1>\u001b[0;34m()\u001b[0m\n\u001b[1;32m      3\u001b[0m     \u001b[0mstore\u001b[0m\u001b[0;34m=\u001b[0m\u001b[0;34m[\u001b[0m\u001b[0;34m]\u001b[0m\u001b[0;34m\u001b[0m\u001b[0;34m\u001b[0m\u001b[0m\n\u001b[1;32m      4\u001b[0m     \u001b[0;32mfor\u001b[0m \u001b[0mk\u001b[0m \u001b[0;32min\u001b[0m \u001b[0mrange\u001b[0m\u001b[0;34m(\u001b[0m\u001b[0mlen\u001b[0m\u001b[0;34m(\u001b[0m\u001b[0moperations\u001b[0m\u001b[0;34m[\u001b[0m\u001b[0mi\u001b[0m\u001b[0;34m]\u001b[0m\u001b[0;34m[\u001b[0m\u001b[0mj\u001b[0m\u001b[0;34m]\u001b[0m\u001b[0;34m)\u001b[0m\u001b[0;34m)\u001b[0m\u001b[0;34m:\u001b[0m\u001b[0;34m\u001b[0m\u001b[0;34m\u001b[0m\u001b[0m\n\u001b[0;32m----> 5\u001b[0;31m       \u001b[0;32mif\u001b[0m\u001b[0;34m(\u001b[0m\u001b[0moperation_grid\u001b[0m\u001b[0;34m[\u001b[0m\u001b[0mi\u001b[0m\u001b[0;34m]\u001b[0m\u001b[0;34m[\u001b[0m\u001b[0mj\u001b[0m\u001b[0;34m]\u001b[0m\u001b[0;34m[\u001b[0m\u001b[0mk\u001b[0m\u001b[0;34m]\u001b[0m\u001b[0;34m==\u001b[0m\u001b[0;34m\"R\"\u001b[0m\u001b[0;34m)\u001b[0m\u001b[0;34m:\u001b[0m\u001b[0;34m\u001b[0m\u001b[0;34m\u001b[0m\u001b[0m\n\u001b[0m\u001b[1;32m      6\u001b[0m         \u001b[0mp\u001b[0m \u001b[0;34m=\u001b[0m \u001b[0mold_grid\u001b[0m\u001b[0;34m[\u001b[0m\u001b[0mi\u001b[0m\u001b[0;34m]\u001b[0m\u001b[0;34m[\u001b[0m\u001b[0mj\u001b[0m\u001b[0;34m+\u001b[0m\u001b[0;36m1\u001b[0m\u001b[0;34m]\u001b[0m \u001b[0;34m+\u001b[0m \u001b[0mg\u001b[0m\u001b[0;34m*\u001b[0m\u001b[0mnew_grid\u001b[0m\u001b[0;34m[\u001b[0m\u001b[0mi\u001b[0m\u001b[0;34m]\u001b[0m\u001b[0;34m[\u001b[0m\u001b[0mj\u001b[0m\u001b[0;34m+\u001b[0m\u001b[0;36m1\u001b[0m\u001b[0;34m]\u001b[0m\u001b[0;34m\u001b[0m\u001b[0;34m\u001b[0m\u001b[0m\n\u001b[1;32m      7\u001b[0m         \u001b[0mstore\u001b[0m\u001b[0;34m.\u001b[0m\u001b[0mappend\u001b[0m\u001b[0;34m(\u001b[0m\u001b[0mp\u001b[0m\u001b[0;34m)\u001b[0m\u001b[0;34m\u001b[0m\u001b[0;34m\u001b[0m\u001b[0m\n",
            "\u001b[0;31mIndexError\u001b[0m: string index out of range"
          ]
        }
      ]
    },
    {
      "cell_type": "code",
      "source": [],
      "metadata": {
        "id": "YPWXTuCp4nBh"
      },
      "execution_count": null,
      "outputs": []
    }
  ]
}